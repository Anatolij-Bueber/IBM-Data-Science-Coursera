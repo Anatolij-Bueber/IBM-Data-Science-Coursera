{
 "cells": [
  {
   "cell_type": "markdown",
   "id": "1d7a3e6c-9b2c-4016-a300-63f9a1b29aad",
   "metadata": {},
   "source": [
    "# Data Science Tools and Ecosystem"
   ]
  },
  {
   "cell_type": "markdown",
   "id": "c48a5c0a-dcb4-4be5-9b52-0fa195f772cf",
   "metadata": {},
   "source": [
    "In this notebook, Data Science Tools and Ecosystem are summarized."
   ]
  },
  {
   "cell_type": "markdown",
   "id": "a5891a55-4131-404d-8e16-1a6e610fc1d9",
   "metadata": {},
   "source": [
    "**Objectives:**\n",
    "- List popular programming languages\n",
    "- List commonly used libraries\n",
    "- List Data Science Tools"
   ]
  },
  {
   "cell_type": "markdown",
   "id": "90c42ca1-d29c-4e80-8903-71d6668e8c44",
   "metadata": {},
   "source": [
    "Some of the popular languages that Data Scientists use are:\n",
    "1. Python\n",
    "2. R\n",
    "3. Julia\n",
    "4. Scala"
   ]
  },
  {
   "cell_type": "markdown",
   "id": "27e747c0-379d-4174-9196-d5750ec639e8",
   "metadata": {},
   "source": [
    "Some of the commonly used libraries used by Data Scientists include:\n",
    "1. NumPy - Python\n",
    "2. Pandas- Python\n",
    "3. TensorFlow / PyTorch - Python\n",
    "4. ggplot - R\n",
    "5. caret - R"
   ]
  },
  {
   "cell_type": "code",
   "execution_count": 1,
   "id": "b8ad1fc1-2a0c-40d0-ade6-7cf2bc16d14d",
   "metadata": {
    "tags": []
   },
   "outputs": [
    {
     "data": {
      "text/html": [
       "<style>\n",
       "table {float:left}\n",
       "</style>\n"
      ],
      "text/plain": [
       "<IPython.core.display.HTML object>"
      ]
     },
     "metadata": {},
     "output_type": "display_data"
    }
   ],
   "source": [
    "%%html\n",
    "<style>\n",
    "table {float:left}\n",
    "</style>"
   ]
  },
  {
   "cell_type": "markdown",
   "id": "a19e9d7d-5329-476b-a44b-6f59985f24cb",
   "metadata": {
    "tags": []
   },
   "source": [
    "| Data Science Tools |\n",
    "|:---|\n",
    "| JuPyterNotebook |\n",
    "| RStudio |\n",
    "| GoogleLabs|"
   ]
  },
  {
   "cell_type": "markdown",
   "id": "a6d42eee-128c-4c5c-a7df-3ac4e804f715",
   "metadata": {},
   "source": [
    "### Below are a few examples of evaluating arithmetic expressions in Python"
   ]
  },
  {
   "cell_type": "code",
   "execution_count": 5,
   "id": "6bddbade-25d2-4d61-96dc-60f0f3874ef8",
   "metadata": {
    "tags": []
   },
   "outputs": [
    {
     "data": {
      "text/plain": [
       "17"
      ]
     },
     "execution_count": 5,
     "metadata": {},
     "output_type": "execute_result"
    }
   ],
   "source": [
    "# This a simple arithmetic expression to mutiply then add integers\n",
    "(3*4)+5"
   ]
  },
  {
   "cell_type": "code",
   "execution_count": 2,
   "id": "933de7d4-89a7-4821-82bc-41f2786d5dd6",
   "metadata": {
    "tags": []
   },
   "outputs": [
    {
     "data": {
      "text/plain": [
       "3.33"
      ]
     },
     "execution_count": 2,
     "metadata": {},
     "output_type": "execute_result"
    }
   ],
   "source": [
    "# This will convert 200 minutes to hours by diving by 60\n",
    "round(200/60,2)"
   ]
  },
  {
   "cell_type": "markdown",
   "id": "c3ebfcb9-9a98-4d1d-aad0-9c392740e170",
   "metadata": {
    "tags": []
   },
   "source": [
    "## Author\n",
    "Anatolij Büber"
   ]
  }
 ],
 "metadata": {
  "kernelspec": {
   "display_name": "Python",
   "language": "python",
   "name": "conda-env-python-py"
  },
  "language_info": {
   "codemirror_mode": {
    "name": "ipython",
    "version": 3
   },
   "file_extension": ".py",
   "mimetype": "text/x-python",
   "name": "python",
   "nbconvert_exporter": "python",
   "pygments_lexer": "ipython3",
   "version": "3.7.12"
  }
 },
 "nbformat": 4,
 "nbformat_minor": 5
}
